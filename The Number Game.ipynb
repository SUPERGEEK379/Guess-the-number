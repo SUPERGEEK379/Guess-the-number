{
 "cells": [
  {
   "cell_type": "code",
   "execution_count": 18,
   "id": "27549b9e",
   "metadata": {},
   "outputs": [
    {
     "name": "stdout",
     "output_type": "stream",
     "text": [
      "Enter the lowest possible number 1\n",
      "Enter the highest possible number 1000\n",
      "guess the number! 3\n",
      "Your number was too low.\n",
      "make a new guess 5\n",
      "Your number was too low.\n",
      "make a new guess 7\n",
      "Your number was too low.\n",
      "make a new guess 8\n",
      "Your number was too low.\n",
      "make a new guess 7\n",
      "Your number was too low.\n",
      "make a new guess 5\n",
      "Game Over! You ran out of tries\n",
      "The answer was474\n"
     ]
    }
   ],
   "source": [
    "from random import seed\n",
    "from random import randint\n",
    "\n",
    "numrangelow = int(input(\"Enter the lowest possible number \"))\n",
    "numrangehigh = int(input(\"Enter the highest possible number \"))\n",
    "\n",
    "value = randint(numrangelow, numrangehigh)\n",
    "numguess = int(input(\"guess the number! \"))\n",
    "\n",
    "for i in range(1,6):\n",
    "    if numguess > value:\n",
    "        print(\"Your number was too high.\")\n",
    "        numguess = int(input(\"make a new guess \"))    \n",
    "    elif numguess < value:\n",
    "        print(\"Your number was too low.\")\n",
    "        numguess = int(input(\"make a new guess \"))\n",
    "    else:\n",
    "        print(\"Correct! You win!\")\n",
    "        break\n",
    "else:\n",
    "    print(\"Game Over! You ran out of tries\")\n",
    "    \n",
    "    print(\"The answer was \" + str(value))"
   ]
  },
  {
   "cell_type": "code",
   "execution_count": null,
   "id": "9b577e67",
   "metadata": {},
   "outputs": [],
   "source": []
  }
 ],
 "metadata": {
  "kernelspec": {
   "display_name": "Python 3 (ipykernel)",
   "language": "python",
   "name": "python3"
  },
  "language_info": {
   "codemirror_mode": {
    "name": "ipython",
    "version": 3
   },
   "file_extension": ".py",
   "mimetype": "text/x-python",
   "name": "python",
   "nbconvert_exporter": "python",
   "pygments_lexer": "ipython3",
   "version": "3.9.7"
  }
 },
 "nbformat": 4,
 "nbformat_minor": 5
}
